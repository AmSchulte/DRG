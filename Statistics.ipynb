{
 "cells": [
  {
   "cell_type": "code",
   "execution_count": 1,
   "metadata": {},
   "outputs": [],
   "source": [
    "import pandas as pd\n",
    "import numpy as np\n",
    "import matplotlib.pyplot as plt\n",
    "import json\n",
    "import seaborn as sns\n",
    "from scipy import stats\n",
    "import analysis_perDRG\n",
    "import scikit_posthocs as sp\n",
    "from statsmodels.sandbox.stats.multicomp import multipletests"
   ]
  },
  {
   "cell_type": "code",
   "execution_count": 2,
   "metadata": {},
   "outputs": [],
   "source": [
    "def statistic_all(feature):\n",
    "    group_a_data = getattr(sham_il, feature)\n",
    "    group_b_data = getattr(sham_cl, feature)    \n",
    "    group_c_data = getattr(sni_il, feature)\n",
    "    group_d_data = getattr(sni_cl, feature)\n",
    "    \n",
    "    # Test for normal distribution\n",
    "    statistic, p_value_a = stats.shapiro(group_a_data)\n",
    "    statistic, p_value_b = stats.shapiro(group_b_data)\n",
    "    statistic, p_value_c = stats.shapiro(group_c_data)\n",
    "    statistic, p_value_d = stats.shapiro(group_d_data)\n",
    "    \n",
    "    if (p_value_b < 0.05) or (p_value_a < 0.05) or (p_value_c < 0.05) or (p_value_d < 0.05):\n",
    "        # data is not normally distrubuted (<0.05)\n",
    "        # non-parametric version of ANOVA\n",
    "        statistic, p_value = stats.kruskal(group_a_data, group_b_data, group_c_data, group_d_data, nan_policy='omit')\n",
    "        posthoc = 'Mann Whitney U'\n",
    "        test = 'Kruskal-Wallis H-test'\n",
    "        P_value = p_value.round(4)\n",
    "        Statistic = statistic.round(4)\n",
    "        #perform posthoc mannwhitney-u\n",
    "        stat = sp.posthoc_mannwhitney([pd.Series(group_a_data).dropna(), pd.Series(group_b_data).dropna(), \n",
    "                                       pd.Series(group_c_data).dropna(), pd.Series(group_d_data).dropna()],\n",
    "                                       p_adjust='Bonferroni')\n",
    "        \n",
    "    else:\n",
    "        # data is normally distributed\n",
    "        # test for equal variance\n",
    "        statistic, p_value = stats.bartlett(pd.Series(group_a_data).dropna(), pd.Series(group_b_data).dropna(), pd.Series(group_c_data).dropna(), pd.Series(group_d_data).dropna())\n",
    "        if p_value < 0.05:\n",
    "            # no equal variance\n",
    "            equal_variance = False\n",
    "            # tests the equality of k independent means in the face of heterogeneity of variance\n",
    "            p_value = stats.alexandergovern(group_a_data, group_b_data, group_c_data, group_d_data)\n",
    "            #print('Welch’s t-test: p-value='+\"{:.5f}\".format(p_value))\n",
    "            posthoc = 'Welch’s t-test'\n",
    "            test = 'Alexander-Govern'\n",
    "            P_value = 42\n",
    "            Statistic = 42\n",
    " \n",
    "        else: \n",
    "            #data is normally distributed and have equal variances\n",
    "            equal_variance = True\n",
    "            statistic, p_value = stats.f_oneway(pd.Series(group_a_data).dropna(), pd.Series(group_b_data).dropna(), pd.Series(group_c_data).dropna(), pd.Series(group_d_data).dropna())\n",
    "            #print('one-way ANOVA: p-value='+\"{:.5f}\".format(p_value))\n",
    "            test = 'one-way ANOVA'\n",
    "            posthoc = 't-test'\n",
    "            P_value = p_value.round(4)\n",
    "            Statistic = statistic.round(4)            \n",
    "        stat = sp.posthoc_ttest([pd.Series(group_a_data).dropna(), pd.Series(group_b_data).dropna(), \n",
    "                                 pd.Series(group_c_data).dropna(), pd.Series(group_d_data).dropna()], \n",
    "                                equal_var=equal_variance, p_adjust='Bonferroni') \n",
    "        #, p_adjust = 'bonferroni'\n",
    "    \n",
    "    stat.columns = ['Sham_IL', 'Sham_CL', 'SNI_IL', 'SNI_CL']\n",
    "    stat.index = ['Sham_IL', 'Sham_CL', 'SNI_IL', 'SNI_CL']\n",
    "    return test, Statistic, P_value, posthoc, stat.round(4)"
   ]
  },
  {
   "cell_type": "code",
   "execution_count": 3,
   "metadata": {},
   "outputs": [],
   "source": [
    "def make_table(features, names):\n",
    "    statistics = pd.DataFrame(columns=['Metric', 'Test', 'statistic', 'p-value', 'Post-hoc', 'Sham IL vs Sham CL', 'Sham IL vs SNI IL', 'SNI IL vs SNI CL', 'Sham CL vs SNI CL'])\n",
    "    for feature, name, i in zip(features, names, range(len(features))):\n",
    "        test, statistic, p_value, posthoc, p_values = statistic_all(feature)\n",
    "        statistics.loc[i] = [name, test, statistic, p_value, posthoc, p_values['Sham_IL']['Sham_CL'], p_values['Sham_IL']['SNI_IL'], p_values['SNI_IL']['SNI_CL'], p_values['Sham_CL']['SNI_CL']]\n",
    "    return statistics                                                              "
   ]
  },
  {
   "cell_type": "code",
   "execution_count": 4,
   "metadata": {},
   "outputs": [],
   "source": [
    "features = ['gfap_intensities', 'gs_intensities', 'gfap_integrated_density', 'gs_integrated_density',  \n",
    "            'neurons_per_tissue', 'small_neurons_percentage', 'bigger_neurons_percentage',\n",
    "            'gfap_area_per_tissue', 'gfap_area_per_neurons', 'ring_ratios_gfap', 'small_neurons_gfap_ring', 'bigger_neurons_gfap_ring',\n",
    "            'gs_area_per_tissue', 'gs_area_per_neurons', 'ring_ratios_gs', 'small_neurons_gs_ring', 'bigger_neurons_gs_ring',\n",
    "            'ring_area_per_tissue', 'ring_area_per_neurons', 'ring_ratios_ring', 'gs_overlaps', 'gfap_overlaps']\n",
    "names = ['GFAP intensities', 'GS intensities', 'GFAP integrated density', 'GS integrated density', \n",
    "         'Neurons/mm^2', 'Small neurons (%)', 'Medium-sized and large neurons (%)',\n",
    "         'GFAP area/ tissue area (%)', 'GFAP area/ neuronal area (%)', 'Neurons in proximity to GFAP+ glial cell (%)', 'Small neurons in proximity to GFAP+ glial cell (%)', 'Medium-sized and large neurons in proximity to GFAP+ glial cell (%)',\n",
    "         'GS area/ tissue area (%)', 'GS area/ neuronal area (%)', 'Neurons in proximity to GS+ glial cell (%)', 'Small neurons in proximity to GS+ glial cell (%)', 'Medium-sized and large neurons in proximity to GS+ glial cell (%)',\n",
    "         'Ring area/ tissue area (%)', 'Ring area/ neuronal area (%)', 'Neurons in proximity to glial cell (%)', 'GS+ glial cells expressing GFAP (%)', 'GFAP+ glial cells expressing GS (%)']"
   ]
  },
  {
   "cell_type": "code",
   "execution_count": 5,
   "metadata": {},
   "outputs": [],
   "source": [
    "name = 'd7perDRG_'\n",
    "\n",
    "with open('D7_SNI_area.json') as f:\n",
    "    results_sni = json.load(f)\n",
    "with open('D7_Sham_area.json') as f:\n",
    "    results_sham = json.load(f)\n",
    "    \n",
    "sham_il = analysis_perDRG.GroupData(results_sham, 'IL', number_of_rats=6)\n",
    "sham_cl = analysis_perDRG.GroupData(results_sham, 'CL', number_of_rats=6)\n",
    "\n",
    "sni_il = analysis_perDRG.GroupData(results_sni, 'IL', number_of_rats=6)\n",
    "sni_cl = analysis_perDRG.GroupData(results_sni, 'CL', number_of_rats=6)\n",
    "\n",
    "statistics_d7 = make_table(features, names)"
   ]
  },
  {
   "cell_type": "code",
   "execution_count": 6,
   "metadata": {},
   "outputs": [],
   "source": [
    "name = 'd14perDRG_'\n",
    "\n",
    "with open('D14_SNI_area.json') as f:\n",
    "    results_sni = json.load(f)\n",
    "with open('D14_Sham_area.json') as f:\n",
    "    results_sham = json.load(f)\n",
    "    \n",
    "sham_il = analysis_perDRG.GroupData(results_sham, 'IL', number_of_rats=5)\n",
    "sham_cl = analysis_perDRG.GroupData(results_sham, 'CL', number_of_rats=5)\n",
    "\n",
    "sni_il = analysis_perDRG.GroupData(results_sni, 'IL', number_of_rats=6)\n",
    "sni_cl = analysis_perDRG.GroupData(results_sni, 'CL', number_of_rats=6)\n",
    "\n",
    "statistics_d14 = make_table(features, names)"
   ]
  },
  {
   "cell_type": "code",
   "execution_count": 8,
   "metadata": {},
   "outputs": [],
   "source": [
    "with pd.ExcelWriter('Statistics_Bonferroni_adj.xlsx') as writer:  \n",
    "\n",
    "    statistics_d7.to_excel(writer, sheet_name='d7')\n",
    "\n",
    "    statistics_d14.to_excel(writer, sheet_name='d14')"
   ]
  },
  {
   "cell_type": "code",
   "execution_count": null,
   "metadata": {},
   "outputs": [],
   "source": []
  }
 ],
 "metadata": {
  "kernelspec": {
   "display_name": "Python 3",
   "language": "python",
   "name": "python3"
  },
  "language_info": {
   "codemirror_mode": {
    "name": "ipython",
    "version": 3
   },
   "file_extension": ".py",
   "mimetype": "text/x-python",
   "name": "python",
   "nbconvert_exporter": "python",
   "pygments_lexer": "ipython3",
   "version": "3.8.8"
  }
 },
 "nbformat": 4,
 "nbformat_minor": 2
}
