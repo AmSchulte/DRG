{
 "cells": [
  {
   "cell_type": "code",
   "execution_count": null,
   "metadata": {},
   "outputs": [],
   "source": [
    "import numpy as np\n",
    "import matplotlib.pyplot as plt\n",
    "import os\n",
    "from skimage import feature\n",
    "from skimage import measure\n",
    "from skimage import segmentation\n",
    "import cv2\n",
    "from scipy import misc,ndimage\n",
    "from tqdm.auto import tqdm\n",
    "import pandas as pd\n",
    "import drg\n",
    "import json"
   ]
  },
  {
   "cell_type": "markdown",
   "metadata": {},
   "source": [
    "#### get paths of all DRGs for SNI and Sham 7d and 14d after injury"
   ]
  },
  {
   "cell_type": "code",
   "execution_count": null,
   "metadata": {},
   "outputs": [],
   "source": [
    "def get_paths(rootdir):\n",
    "    subdirs_L4CL = []\n",
    "    subdirs_L4IL = []\n",
    "    subdirs_L5CL = []\n",
    "    subdirs_L5IL = []\n",
    "    for subdir, dirs, files in os.walk(rootdir):\n",
    "        if subdir.endswith('L4CL'):\n",
    "            subdirs_L4CL.append(subdir)\n",
    "        elif subdir.endswith('L4IL'):\n",
    "            subdirs_L4IL.append(subdir)\n",
    "        elif subdir.endswith('L5CL'):\n",
    "            subdirs_L5CL.append(subdir)\n",
    "        elif subdir.endswith('L5IL'):\n",
    "            subdirs_L5IL.append(subdir)\n",
    "\n",
    "    return {'L4CL':subdirs_L4CL, 'L4IL':subdirs_L4IL, 'L5CL':subdirs_L5CL, 'L5IL':subdirs_L5IL}"
   ]
  },
  {
   "cell_type": "code",
   "execution_count": null,
   "metadata": {},
   "outputs": [],
   "source": [
    "d7_sni = get_paths('E:\\Deep Learning\\Daten zum Auswerten\\Ratten d7\\Data_tif\\SNI')\n",
    "d7_sham = get_paths('E:\\Deep Learning\\Daten zum Auswerten\\Ratten d7\\Data_tif\\Sham')\n",
    "d14_sni = get_paths('E:\\Deep Learning\\Daten zum Auswerten\\Ratten d14\\Data_tif_downscale\\SNI')\n",
    "d14_sham = get_paths('E:\\Deep Learning\\Daten zum Auswerten\\Ratten d14\\Data_tif_downscale\\Sham')"
   ]
  },
  {
   "cell_type": "markdown",
   "metadata": {},
   "source": [
    "### calculate and save results for SNI and Sham 7d and 14d after injury\n",
    "\n",
    "#### results are a list of dictionaries that is saved as a json file"
   ]
  },
  {
   "cell_type": "code",
   "execution_count": null,
   "metadata": {},
   "outputs": [],
   "source": [
    "def images_to_numbers(group, name):\n",
    "    results = []\n",
    "    for drg_group in tqdm(group):    \n",
    "        for subdir in tqdm(group[drg_group]):\n",
    "            data = drg.DrgData(subdir)\n",
    "            results.append({\n",
    "                \"group\":drg_group,\n",
    "                \"path\":subdir, \n",
    "                \"gs_intensities\": data.gs_intensities,\n",
    "                \"gfap_intensities\": data.gfap_intensities,\n",
    "                \"gs_intensities_norm\": data.gs_intensities_norm,\n",
    "                \"gfap_intensities_norm\": data.gfap_intensities_norm,\n",
    "                \"gs_intensities_area\": data.gs_intensities_area,\n",
    "                \"gfap_intensities_area\": data.gfap_intensities_area,\n",
    "                \"cell_size_neurons\": data.neuronal_cell_sizes,\n",
    "                \"gs_rings\": data.gs_rings,\n",
    "                \"gfap_rings\": data.gfap_rings,\n",
    "                \"ring_rings\": data.ring_rings,\n",
    "                \"neuronal_area_per_tissue\": data.neuronal_area_per_tissue,\n",
    "                \"gs_overlaps\": data.gs_overlaps,\n",
    "                \"gfap_overlaps\": data.gfap_overlaps,\n",
    "                \"gs_area_per_tissue\": data.gs_area_per_tissue,\n",
    "                \"gfap_area_per_tissue\": data.gfap_area_per_tissue,\n",
    "                \"ring_area_per_tissue\": data.ring_area_per_tissue,\n",
    "                \"gs_area_per_neurons\": data.gs_area_per_neurons,\n",
    "                \"gfap_area_per_neurons\": data.gfap_area_per_neurons,\n",
    "                \"ring_area_per_neurons\": data.ring_area_per_neurons,\n",
    "                \"tissue_pixel\":data.tissue_pixel,\n",
    "                \"gs_pixel\": data.gs_pixel,\n",
    "                \"gfap_pixel\": data.gfap_pixel,\n",
    "            })\n",
    "\n",
    "    with open(name+\"_area.json\", \"w\") as file:\n",
    "        file.write(json.dumps(results, indent=4))"
   ]
  },
  {
   "cell_type": "code",
   "execution_count": null,
   "metadata": {
    "scrolled": false
   },
   "outputs": [],
   "source": [
    "images_to_numbers(d7_sni,'D7_SNI')"
   ]
  },
  {
   "cell_type": "code",
   "execution_count": null,
   "metadata": {
    "scrolled": true
   },
   "outputs": [],
   "source": [
    "images_to_numbers(d7_sham,'D7_Sham')"
   ]
  },
  {
   "cell_type": "code",
   "execution_count": null,
   "metadata": {
    "scrolled": true
   },
   "outputs": [],
   "source": [
    "images_to_numbers(d14_sni,'D14_SNI')"
   ]
  },
  {
   "cell_type": "code",
   "execution_count": null,
   "metadata": {
    "scrolled": true
   },
   "outputs": [],
   "source": [
    "images_to_numbers(d14_sham,'D14_Sham')"
   ]
  },
  {
   "cell_type": "code",
   "execution_count": null,
   "metadata": {},
   "outputs": [],
   "source": []
  }
 ],
 "metadata": {
  "kernelspec": {
   "display_name": "Python 3",
   "language": "python",
   "name": "python3"
  },
  "language_info": {
   "codemirror_mode": {
    "name": "ipython",
    "version": 3
   },
   "file_extension": ".py",
   "mimetype": "text/x-python",
   "name": "python",
   "nbconvert_exporter": "python",
   "pygments_lexer": "ipython3",
   "version": "3.8.8"
  }
 },
 "nbformat": 4,
 "nbformat_minor": 2
}
