{
 "cells": [
  {
   "cell_type": "code",
   "execution_count": 1,
   "metadata": {},
   "outputs": [],
   "source": [
    "import numpy as np\n",
    "import matplotlib.pyplot as plt\n",
    "import os\n",
    "from skimage import feature\n",
    "from skimage import measure\n",
    "from skimage import segmentation\n",
    "import cv2\n",
    "from scipy import misc,ndimage\n",
    "from tqdm.auto import tqdm\n",
    "import pandas as pd\n",
    "import drg\n",
    "import json"
   ]
  },
  {
   "cell_type": "markdown",
   "metadata": {},
   "source": [
    "### get pathes of all DRGs for SNI and Sham"
   ]
  },
  {
   "cell_type": "code",
   "execution_count": 2,
   "metadata": {},
   "outputs": [],
   "source": [
    "def get_paths(rootdir):\n",
    "    subdirs_L4CL = []\n",
    "    subdirs_L4IL = []\n",
    "    subdirs_L5CL = []\n",
    "    subdirs_L5IL = []\n",
    "    for subdir, dirs, files in os.walk(rootdir):\n",
    "        if subdir.endswith('L4CL'):\n",
    "            subdirs_L4CL.append(subdir)\n",
    "        elif subdir.endswith('L4IL'):\n",
    "            subdirs_L4IL.append(subdir)\n",
    "        elif subdir.endswith('L5CL'):\n",
    "            subdirs_L5CL.append(subdir)\n",
    "        elif subdir.endswith('L5IL'):\n",
    "            subdirs_L5IL.append(subdir)\n",
    "\n",
    "    return {'L4CL':subdirs_L4CL, 'L4IL':subdirs_L4IL, 'L5CL':subdirs_L5CL, 'L5IL':subdirs_L5IL}"
   ]
  },
  {
   "cell_type": "code",
   "execution_count": 3,
   "metadata": {},
   "outputs": [],
   "source": [
    "d7_sni = get_paths('F:\\Deep Learning\\Daten zum Auswerten\\Ratten d7\\Data_tif\\SNI')\n",
    "d7_sham = get_paths('F:\\Deep Learning\\Daten zum Auswerten\\Ratten d7\\Data_tif\\Sham')\n",
    "d14_sni = get_paths('F:\\Deep Learning\\Daten zum Auswerten\\Ratten d14\\Data_tif_downscale\\SNI')\n",
    "d14_sham = get_paths('F:\\Deep Learning\\Daten zum Auswerten\\Ratten d14\\Data_tif_downscale\\Sham')"
   ]
  },
  {
   "cell_type": "markdown",
   "metadata": {},
   "source": [
    "### calculate and save results for SNI and Sham\n",
    "##### results: cell size of neurons (pixel), mean intensity per pixel of gs and gfap, ring size (%) of gs and gfap"
   ]
  },
  {
   "cell_type": "code",
   "execution_count": 4,
   "metadata": {},
   "outputs": [],
   "source": [
    "def images_to_numbers(group, name):\n",
    "    results = []\n",
    "    for drg_group in tqdm(group):    \n",
    "        for subdir in tqdm(group[drg_group]):\n",
    "            data = drg.DrgData(subdir)\n",
    "            results.append({\n",
    "                \"group\":drg_group,\n",
    "                \"path\":subdir, \n",
    "                \"gs_intensities\": data.gs_intensities,\n",
    "                \"gfap_intensities\": data.gfap_intensities,\n",
    "                \"cell_size_neurons\": data.neuronal_cell_sizes,\n",
    "                \"gs_rings\": data.gs_rings,\n",
    "                \"gfap_rings\": data.gfap_rings,\n",
    "                \"gs_overlaps\": data.gs_overlaps,\n",
    "                \"gfap_overlaps\": data.gfap_overlaps\n",
    "            })\n",
    "    with open(name+\".json\", \"w\") as file:\n",
    "        file.write(json.dumps(results, indent=4))"
   ]
  },
  {
   "cell_type": "code",
   "execution_count": 5,
   "metadata": {},
   "outputs": [],
   "source": [
    "def images_to_numbers_new(group, name):\n",
    "    results = []\n",
    "    for drg_group in tqdm(group):    \n",
    "        for subdir in tqdm(group[drg_group]):\n",
    "            data = drg.DrgData(subdir)\n",
    "            results.append({\n",
    "                \"group\":drg_group,\n",
    "                \"path\":subdir, \n",
    "                \"gs_intensities\": data.gs_intensities,\n",
    "                \"gfap_intensities\": data.gfap_intensities,\n",
    "                \"gs_intensities_of_area\": data.gs_intensities_of_area,\n",
    "                \"gfap_intensities_of_area\": data.gfap_intensities_of_area,\n",
    "                \"cell_size_neurons\": data.neuronal_cell_sizes,\n",
    "                \"gs_rings\": data.gs_rings,\n",
    "                \"gfap_rings\": data.gfap_rings,\n",
    "                \"ring_rings\": data.ring_rings,\n",
    "                \"neuronal_area_per_tissue\": data.neuronal_area_per_tissue,\n",
    "                \"gs_overlaps\": data.gs_overlaps,\n",
    "                \"gfap_overlaps\": data.gfap_overlaps,\n",
    "                \"gs_area_per_tissue\": data.gs_area_per_tissue,\n",
    "                \"gfap_area_per_tissue\": data.gfap_area_per_tissue,\n",
    "                \"ring_area_per_tissue\": data.ring_area_per_tissue,\n",
    "                \"gs_area_per_neurons\": data.gs_area_per_neurons,\n",
    "                \"gfap_area_per_neurons\": data.gfap_area_per_neurons,\n",
    "                \"ring_area_per_neurons\": data.ring_area_per_neurons    \n",
    "            })\n",
    "\n",
    "    with open(name+\"_area.json\", \"w\") as file:\n",
    "        file.write(json.dumps(results, indent=4))"
   ]
  },
  {
   "cell_type": "code",
   "execution_count": 6,
   "metadata": {
    "scrolled": true
   },
   "outputs": [
    {
     "data": {
      "application/vnd.jupyter.widget-view+json": {
       "model_id": "531c3a7a1f86467a87fefdddb987356c",
       "version_major": 2,
       "version_minor": 0
      },
      "text/plain": [
       "  0%|          | 0/4 [00:00<?, ?it/s]"
      ]
     },
     "metadata": {},
     "output_type": "display_data"
    },
    {
     "data": {
      "application/vnd.jupyter.widget-view+json": {
       "model_id": "03681b67f2a34211a448959f1522f757",
       "version_major": 2,
       "version_minor": 0
      },
      "text/plain": [
       "  0%|          | 0/6 [00:00<?, ?it/s]"
      ]
     },
     "metadata": {},
     "output_type": "display_data"
    },
    {
     "data": {
      "application/vnd.jupyter.widget-view+json": {
       "model_id": "6f39b438ce85404ca2532f2efd2b46bc",
       "version_major": 2,
       "version_minor": 0
      },
      "text/plain": [
       "0it [00:00, ?it/s]"
      ]
     },
     "metadata": {},
     "output_type": "display_data"
    },
    {
     "name": "stderr",
     "output_type": "stream",
     "text": [
      "E:\\Annemarie\\DRG Segmentation\\DRG Segmentation Paper\\drg.py:168: RuntimeWarning: invalid value encountered in double_scalars\n",
      "  return np.sum(masked)/np.sum(mask)\n",
      "E:\\Annemarie\\DRG Segmentation\\DRG Segmentation Paper\\drg.py:117: RuntimeWarning: invalid value encountered in true_divide\n",
      "  gs_overlap = overlap_area/gs_area\n",
      "E:\\Annemarie\\DRG Segmentation\\DRG Segmentation Paper\\drg.py:118: RuntimeWarning: invalid value encountered in true_divide\n",
      "  gfap_overlap = overlap_area/gfap_area\n"
     ]
    },
    {
     "data": {
      "application/vnd.jupyter.widget-view+json": {
       "model_id": "84d12df6219f4ef68c2c47cf2fa873ab",
       "version_major": 2,
       "version_minor": 0
      },
      "text/plain": [
       "0it [00:00, ?it/s]"
      ]
     },
     "metadata": {},
     "output_type": "display_data"
    },
    {
     "name": "stderr",
     "output_type": "stream",
     "text": [
      "E:\\Annemarie\\DRG Segmentation\\DRG Segmentation Paper\\drg.py:168: RuntimeWarning: invalid value encountered in double_scalars\n",
      "  return np.sum(masked)/np.sum(mask)\n",
      "E:\\Annemarie\\DRG Segmentation\\DRG Segmentation Paper\\drg.py:118: RuntimeWarning: invalid value encountered in true_divide\n",
      "  gfap_overlap = overlap_area/gfap_area\n"
     ]
    },
    {
     "data": {
      "application/vnd.jupyter.widget-view+json": {
       "model_id": "5584892a93534b6a8b3c9bbb82164bac",
       "version_major": 2,
       "version_minor": 0
      },
      "text/plain": [
       "0it [00:00, ?it/s]"
      ]
     },
     "metadata": {},
     "output_type": "display_data"
    },
    {
     "data": {
      "application/vnd.jupyter.widget-view+json": {
       "model_id": "7f0c11064758446f9553f1fbc625584c",
       "version_major": 2,
       "version_minor": 0
      },
      "text/plain": [
       "0it [00:00, ?it/s]"
      ]
     },
     "metadata": {},
     "output_type": "display_data"
    },
    {
     "data": {
      "application/vnd.jupyter.widget-view+json": {
       "model_id": "079bd6956fe94c7889451beb459c4e95",
       "version_major": 2,
       "version_minor": 0
      },
      "text/plain": [
       "0it [00:00, ?it/s]"
      ]
     },
     "metadata": {},
     "output_type": "display_data"
    },
    {
     "data": {
      "application/vnd.jupyter.widget-view+json": {
       "model_id": "61dbbd95e6684779a1bd8aa9c984a618",
       "version_major": 2,
       "version_minor": 0
      },
      "text/plain": [
       "0it [00:00, ?it/s]"
      ]
     },
     "metadata": {},
     "output_type": "display_data"
    },
    {
     "data": {
      "application/vnd.jupyter.widget-view+json": {
       "model_id": "497e16ab0d434651bc4df0522fba4f89",
       "version_major": 2,
       "version_minor": 0
      },
      "text/plain": [
       "  0%|          | 0/6 [00:00<?, ?it/s]"
      ]
     },
     "metadata": {},
     "output_type": "display_data"
    },
    {
     "data": {
      "application/vnd.jupyter.widget-view+json": {
       "model_id": "e2472128f4054dd28932f184138e9173",
       "version_major": 2,
       "version_minor": 0
      },
      "text/plain": [
       "0it [00:00, ?it/s]"
      ]
     },
     "metadata": {},
     "output_type": "display_data"
    },
    {
     "name": "stderr",
     "output_type": "stream",
     "text": [
      "E:\\Annemarie\\DRG Segmentation\\DRG Segmentation Paper\\drg.py:168: RuntimeWarning: invalid value encountered in double_scalars\n",
      "  return np.sum(masked)/np.sum(mask)\n",
      "E:\\Annemarie\\DRG Segmentation\\DRG Segmentation Paper\\drg.py:118: RuntimeWarning: invalid value encountered in true_divide\n",
      "  gfap_overlap = overlap_area/gfap_area\n"
     ]
    },
    {
     "data": {
      "application/vnd.jupyter.widget-view+json": {
       "model_id": "3a6c191bd7ec4bc285d8b5050173c308",
       "version_major": 2,
       "version_minor": 0
      },
      "text/plain": [
       "0it [00:00, ?it/s]"
      ]
     },
     "metadata": {},
     "output_type": "display_data"
    },
    {
     "name": "stderr",
     "output_type": "stream",
     "text": [
      "E:\\Annemarie\\DRG Segmentation\\DRG Segmentation Paper\\drg.py:168: RuntimeWarning: invalid value encountered in double_scalars\n",
      "  return np.sum(masked)/np.sum(mask)\n",
      "E:\\Annemarie\\DRG Segmentation\\DRG Segmentation Paper\\drg.py:117: RuntimeWarning: invalid value encountered in true_divide\n",
      "  gs_overlap = overlap_area/gs_area\n"
     ]
    },
    {
     "data": {
      "application/vnd.jupyter.widget-view+json": {
       "model_id": "48be132204f841a3b9a77d5094b0eccd",
       "version_major": 2,
       "version_minor": 0
      },
      "text/plain": [
       "0it [00:00, ?it/s]"
      ]
     },
     "metadata": {},
     "output_type": "display_data"
    },
    {
     "data": {
      "application/vnd.jupyter.widget-view+json": {
       "model_id": "c881be44cbd7476ebaa30e062ddc8741",
       "version_major": 2,
       "version_minor": 0
      },
      "text/plain": [
       "0it [00:00, ?it/s]"
      ]
     },
     "metadata": {},
     "output_type": "display_data"
    },
    {
     "name": "stderr",
     "output_type": "stream",
     "text": [
      "E:\\Annemarie\\DRG Segmentation\\DRG Segmentation Paper\\drg.py:168: RuntimeWarning: invalid value encountered in double_scalars\n",
      "  return np.sum(masked)/np.sum(mask)\n",
      "E:\\Annemarie\\DRG Segmentation\\DRG Segmentation Paper\\drg.py:118: RuntimeWarning: invalid value encountered in true_divide\n",
      "  gfap_overlap = overlap_area/gfap_area\n"
     ]
    },
    {
     "data": {
      "application/vnd.jupyter.widget-view+json": {
       "model_id": "5d41dc522146437bb6371ca455727d34",
       "version_major": 2,
       "version_minor": 0
      },
      "text/plain": [
       "0it [00:00, ?it/s]"
      ]
     },
     "metadata": {},
     "output_type": "display_data"
    },
    {
     "data": {
      "application/vnd.jupyter.widget-view+json": {
       "model_id": "f1e9f257d16949ecac5b4ca3500cc74c",
       "version_major": 2,
       "version_minor": 0
      },
      "text/plain": [
       "0it [00:00, ?it/s]"
      ]
     },
     "metadata": {},
     "output_type": "display_data"
    },
    {
     "name": "stderr",
     "output_type": "stream",
     "text": [
      "E:\\Annemarie\\DRG Segmentation\\DRG Segmentation Paper\\drg.py:168: RuntimeWarning: invalid value encountered in double_scalars\n",
      "  return np.sum(masked)/np.sum(mask)\n",
      "E:\\Annemarie\\DRG Segmentation\\DRG Segmentation Paper\\drg.py:118: RuntimeWarning: invalid value encountered in true_divide\n",
      "  gfap_overlap = overlap_area/gfap_area\n"
     ]
    },
    {
     "data": {
      "application/vnd.jupyter.widget-view+json": {
       "model_id": "8b0335dac1174323a0af05c2a1bcb0f7",
       "version_major": 2,
       "version_minor": 0
      },
      "text/plain": [
       "  0%|          | 0/6 [00:00<?, ?it/s]"
      ]
     },
     "metadata": {},
     "output_type": "display_data"
    },
    {
     "data": {
      "application/vnd.jupyter.widget-view+json": {
       "model_id": "12627d8130574eadbae52658cb9ae259",
       "version_major": 2,
       "version_minor": 0
      },
      "text/plain": [
       "0it [00:00, ?it/s]"
      ]
     },
     "metadata": {},
     "output_type": "display_data"
    },
    {
     "name": "stderr",
     "output_type": "stream",
     "text": [
      "E:\\Annemarie\\DRG Segmentation\\DRG Segmentation Paper\\drg.py:168: RuntimeWarning: invalid value encountered in double_scalars\n",
      "  return np.sum(masked)/np.sum(mask)\n",
      "E:\\Annemarie\\DRG Segmentation\\DRG Segmentation Paper\\drg.py:118: RuntimeWarning: invalid value encountered in true_divide\n",
      "  gfap_overlap = overlap_area/gfap_area\n",
      "E:\\Annemarie\\DRG Segmentation\\DRG Segmentation Paper\\drg.py:168: RuntimeWarning: invalid value encountered in double_scalars\n",
      "  return np.sum(masked)/np.sum(mask)\n",
      "E:\\Annemarie\\DRG Segmentation\\DRG Segmentation Paper\\drg.py:117: RuntimeWarning: invalid value encountered in true_divide\n",
      "  gs_overlap = overlap_area/gs_area\n",
      "E:\\Annemarie\\DRG Segmentation\\DRG Segmentation Paper\\drg.py:118: RuntimeWarning: invalid value encountered in true_divide\n",
      "  gfap_overlap = overlap_area/gfap_area\n"
     ]
    },
    {
     "data": {
      "application/vnd.jupyter.widget-view+json": {
       "model_id": "77bc1ed9b8b64f71b6df517f23b09f64",
       "version_major": 2,
       "version_minor": 0
      },
      "text/plain": [
       "0it [00:00, ?it/s]"
      ]
     },
     "metadata": {},
     "output_type": "display_data"
    },
    {
     "name": "stderr",
     "output_type": "stream",
     "text": [
      "E:\\Annemarie\\DRG Segmentation\\DRG Segmentation Paper\\drg.py:168: RuntimeWarning: invalid value encountered in double_scalars\n",
      "  return np.sum(masked)/np.sum(mask)\n",
      "E:\\Annemarie\\DRG Segmentation\\DRG Segmentation Paper\\drg.py:118: RuntimeWarning: invalid value encountered in true_divide\n",
      "  gfap_overlap = overlap_area/gfap_area\n"
     ]
    },
    {
     "data": {
      "application/vnd.jupyter.widget-view+json": {
       "model_id": "d6a64e429acf45389b4929f36c6da731",
       "version_major": 2,
       "version_minor": 0
      },
      "text/plain": [
       "0it [00:00, ?it/s]"
      ]
     },
     "metadata": {},
     "output_type": "display_data"
    },
    {
     "name": "stderr",
     "output_type": "stream",
     "text": [
      "E:\\Annemarie\\DRG Segmentation\\DRG Segmentation Paper\\drg.py:168: RuntimeWarning: invalid value encountered in double_scalars\n",
      "  return np.sum(masked)/np.sum(mask)\n",
      "E:\\Annemarie\\DRG Segmentation\\DRG Segmentation Paper\\drg.py:118: RuntimeWarning: invalid value encountered in true_divide\n",
      "  gfap_overlap = overlap_area/gfap_area\n",
      "E:\\Annemarie\\DRG Segmentation\\DRG Segmentation Paper\\drg.py:168: RuntimeWarning: invalid value encountered in double_scalars\n",
      "  return np.sum(masked)/np.sum(mask)\n",
      "E:\\Annemarie\\DRG Segmentation\\DRG Segmentation Paper\\drg.py:118: RuntimeWarning: invalid value encountered in true_divide\n",
      "  gfap_overlap = overlap_area/gfap_area\n"
     ]
    },
    {
     "data": {
      "application/vnd.jupyter.widget-view+json": {
       "model_id": "df81bc1200a44408b546c3d20633cf0a",
       "version_major": 2,
       "version_minor": 0
      },
      "text/plain": [
       "0it [00:00, ?it/s]"
      ]
     },
     "metadata": {},
     "output_type": "display_data"
    },
    {
     "data": {
      "application/vnd.jupyter.widget-view+json": {
       "model_id": "a50a2aba61664e88ba40daf18b64ab47",
       "version_major": 2,
       "version_minor": 0
      },
      "text/plain": [
       "0it [00:00, ?it/s]"
      ]
     },
     "metadata": {},
     "output_type": "display_data"
    },
    {
     "data": {
      "application/vnd.jupyter.widget-view+json": {
       "model_id": "fe009d1410504890a97af97161d9d49f",
       "version_major": 2,
       "version_minor": 0
      },
      "text/plain": [
       "0it [00:00, ?it/s]"
      ]
     },
     "metadata": {},
     "output_type": "display_data"
    },
    {
     "data": {
      "application/vnd.jupyter.widget-view+json": {
       "model_id": "9ddb556312954bac91daef909396d0b3",
       "version_major": 2,
       "version_minor": 0
      },
      "text/plain": [
       "  0%|          | 0/6 [00:00<?, ?it/s]"
      ]
     },
     "metadata": {},
     "output_type": "display_data"
    },
    {
     "data": {
      "application/vnd.jupyter.widget-view+json": {
       "model_id": "9932855c3a514817a20db193b318b71f",
       "version_major": 2,
       "version_minor": 0
      },
      "text/plain": [
       "0it [00:00, ?it/s]"
      ]
     },
     "metadata": {},
     "output_type": "display_data"
    },
    {
     "data": {
      "application/vnd.jupyter.widget-view+json": {
       "model_id": "e71f024ff60e4ac5a8b7640e66bb97d2",
       "version_major": 2,
       "version_minor": 0
      },
      "text/plain": [
       "0it [00:00, ?it/s]"
      ]
     },
     "metadata": {},
     "output_type": "display_data"
    },
    {
     "data": {
      "application/vnd.jupyter.widget-view+json": {
       "model_id": "1b98d9593c0a4f64846f175b510e4461",
       "version_major": 2,
       "version_minor": 0
      },
      "text/plain": [
       "0it [00:00, ?it/s]"
      ]
     },
     "metadata": {},
     "output_type": "display_data"
    },
    {
     "name": "stderr",
     "output_type": "stream",
     "text": [
      "E:\\Annemarie\\DRG Segmentation\\DRG Segmentation Paper\\drg.py:168: RuntimeWarning: invalid value encountered in double_scalars\n",
      "  return np.sum(masked)/np.sum(mask)\n",
      "E:\\Annemarie\\DRG Segmentation\\DRG Segmentation Paper\\drg.py:118: RuntimeWarning: invalid value encountered in true_divide\n",
      "  gfap_overlap = overlap_area/gfap_area\n"
     ]
    },
    {
     "data": {
      "application/vnd.jupyter.widget-view+json": {
       "model_id": "c9c83035ef3e4bbab1409efd801d7519",
       "version_major": 2,
       "version_minor": 0
      },
      "text/plain": [
       "0it [00:00, ?it/s]"
      ]
     },
     "metadata": {},
     "output_type": "display_data"
    },
    {
     "data": {
      "application/vnd.jupyter.widget-view+json": {
       "model_id": "83d0d3b97ce24a47abc2db46d1e6be55",
       "version_major": 2,
       "version_minor": 0
      },
      "text/plain": [
       "0it [00:00, ?it/s]"
      ]
     },
     "metadata": {},
     "output_type": "display_data"
    },
    {
     "data": {
      "application/vnd.jupyter.widget-view+json": {
       "model_id": "34b012808a29486995e27abe859a1d47",
       "version_major": 2,
       "version_minor": 0
      },
      "text/plain": [
       "0it [00:00, ?it/s]"
      ]
     },
     "metadata": {},
     "output_type": "display_data"
    },
    {
     "name": "stderr",
     "output_type": "stream",
     "text": [
      "E:\\Annemarie\\DRG Segmentation\\DRG Segmentation Paper\\drg.py:168: RuntimeWarning: invalid value encountered in double_scalars\n",
      "  return np.sum(masked)/np.sum(mask)\n",
      "E:\\Annemarie\\DRG Segmentation\\DRG Segmentation Paper\\drg.py:117: RuntimeWarning: invalid value encountered in true_divide\n",
      "  gs_overlap = overlap_area/gs_area\n",
      "E:\\Annemarie\\DRG Segmentation\\DRG Segmentation Paper\\drg.py:118: RuntimeWarning: invalid value encountered in true_divide\n",
      "  gfap_overlap = overlap_area/gfap_area\n"
     ]
    }
   ],
   "source": [
    "images_to_numbers_new(d7_sham,'D7_Sham')"
   ]
  },
  {
   "cell_type": "code",
   "execution_count": 7,
   "metadata": {
    "scrolled": true
   },
   "outputs": [
    {
     "data": {
      "application/vnd.jupyter.widget-view+json": {
       "model_id": "c3a2560260c7485996c752626d9f8b49",
       "version_major": 2,
       "version_minor": 0
      },
      "text/plain": [
       "  0%|          | 0/4 [00:00<?, ?it/s]"
      ]
     },
     "metadata": {},
     "output_type": "display_data"
    },
    {
     "data": {
      "application/vnd.jupyter.widget-view+json": {
       "model_id": "06b9697cbd0e42fd8ae9f3fe90cbe55e",
       "version_major": 2,
       "version_minor": 0
      },
      "text/plain": [
       "  0%|          | 0/6 [00:00<?, ?it/s]"
      ]
     },
     "metadata": {},
     "output_type": "display_data"
    },
    {
     "data": {
      "application/vnd.jupyter.widget-view+json": {
       "model_id": "94e000c1042840f4a4506276d1cbfcbb",
       "version_major": 2,
       "version_minor": 0
      },
      "text/plain": [
       "0it [00:00, ?it/s]"
      ]
     },
     "metadata": {},
     "output_type": "display_data"
    },
    {
     "name": "stderr",
     "output_type": "stream",
     "text": [
      "E:\\Annemarie\\DRG Segmentation\\DRG Segmentation Paper\\drg.py:168: RuntimeWarning: invalid value encountered in double_scalars\n",
      "  return np.sum(masked)/np.sum(mask)\n",
      "E:\\Annemarie\\DRG Segmentation\\DRG Segmentation Paper\\drg.py:117: RuntimeWarning: invalid value encountered in true_divide\n",
      "  gs_overlap = overlap_area/gs_area\n",
      "E:\\Annemarie\\DRG Segmentation\\DRG Segmentation Paper\\drg.py:118: RuntimeWarning: invalid value encountered in true_divide\n",
      "  gfap_overlap = overlap_area/gfap_area\n",
      "E:\\Annemarie\\DRG Segmentation\\DRG Segmentation Paper\\drg.py:168: RuntimeWarning: invalid value encountered in double_scalars\n",
      "  return np.sum(masked)/np.sum(mask)\n",
      "E:\\Annemarie\\DRG Segmentation\\DRG Segmentation Paper\\drg.py:118: RuntimeWarning: invalid value encountered in true_divide\n",
      "  gfap_overlap = overlap_area/gfap_area\n",
      "E:\\Annemarie\\DRG Segmentation\\DRG Segmentation Paper\\drg.py:168: RuntimeWarning: invalid value encountered in double_scalars\n",
      "  return np.sum(masked)/np.sum(mask)\n",
      "E:\\Annemarie\\DRG Segmentation\\DRG Segmentation Paper\\drg.py:117: RuntimeWarning: invalid value encountered in true_divide\n",
      "  gs_overlap = overlap_area/gs_area\n",
      "E:\\Annemarie\\DRG Segmentation\\DRG Segmentation Paper\\drg.py:118: RuntimeWarning: invalid value encountered in true_divide\n",
      "  gfap_overlap = overlap_area/gfap_area\n",
      "E:\\Annemarie\\DRG Segmentation\\DRG Segmentation Paper\\drg.py:168: RuntimeWarning: invalid value encountered in double_scalars\n",
      "  return np.sum(masked)/np.sum(mask)\n",
      "E:\\Annemarie\\DRG Segmentation\\DRG Segmentation Paper\\drg.py:117: RuntimeWarning: invalid value encountered in true_divide\n",
      "  gs_overlap = overlap_area/gs_area\n",
      "E:\\Annemarie\\DRG Segmentation\\DRG Segmentation Paper\\drg.py:118: RuntimeWarning: invalid value encountered in true_divide\n",
      "  gfap_overlap = overlap_area/gfap_area\n",
      "E:\\Annemarie\\DRG Segmentation\\DRG Segmentation Paper\\drg.py:168: RuntimeWarning: invalid value encountered in double_scalars\n",
      "  return np.sum(masked)/np.sum(mask)\n",
      "E:\\Annemarie\\DRG Segmentation\\DRG Segmentation Paper\\drg.py:117: RuntimeWarning: invalid value encountered in true_divide\n",
      "  gs_overlap = overlap_area/gs_area\n",
      "E:\\Annemarie\\DRG Segmentation\\DRG Segmentation Paper\\drg.py:118: RuntimeWarning: invalid value encountered in true_divide\n",
      "  gfap_overlap = overlap_area/gfap_area\n"
     ]
    },
    {
     "data": {
      "application/vnd.jupyter.widget-view+json": {
       "model_id": "30b140432a9f4c3390506ee975e15c46",
       "version_major": 2,
       "version_minor": 0
      },
      "text/plain": [
       "0it [00:00, ?it/s]"
      ]
     },
     "metadata": {},
     "output_type": "display_data"
    },
    {
     "name": "stderr",
     "output_type": "stream",
     "text": [
      "E:\\Annemarie\\DRG Segmentation\\DRG Segmentation Paper\\drg.py:168: RuntimeWarning: invalid value encountered in double_scalars\n",
      "  return np.sum(masked)/np.sum(mask)\n",
      "E:\\Annemarie\\DRG Segmentation\\DRG Segmentation Paper\\drg.py:117: RuntimeWarning: invalid value encountered in true_divide\n",
      "  gs_overlap = overlap_area/gs_area\n",
      "E:\\Annemarie\\DRG Segmentation\\DRG Segmentation Paper\\drg.py:118: RuntimeWarning: invalid value encountered in true_divide\n",
      "  gfap_overlap = overlap_area/gfap_area\n"
     ]
    },
    {
     "data": {
      "application/vnd.jupyter.widget-view+json": {
       "model_id": "775b55c2d2de40338e1e1430d8318f59",
       "version_major": 2,
       "version_minor": 0
      },
      "text/plain": [
       "0it [00:00, ?it/s]"
      ]
     },
     "metadata": {},
     "output_type": "display_data"
    },
    {
     "data": {
      "application/vnd.jupyter.widget-view+json": {
       "model_id": "f893bb4859a041668910169ffd7ec98e",
       "version_major": 2,
       "version_minor": 0
      },
      "text/plain": [
       "0it [00:00, ?it/s]"
      ]
     },
     "metadata": {},
     "output_type": "display_data"
    },
    {
     "name": "stderr",
     "output_type": "stream",
     "text": [
      "E:\\Annemarie\\DRG Segmentation\\DRG Segmentation Paper\\drg.py:168: RuntimeWarning: invalid value encountered in double_scalars\n",
      "  return np.sum(masked)/np.sum(mask)\n",
      "E:\\Annemarie\\DRG Segmentation\\DRG Segmentation Paper\\drg.py:118: RuntimeWarning: invalid value encountered in true_divide\n",
      "  gfap_overlap = overlap_area/gfap_area\n"
     ]
    },
    {
     "data": {
      "application/vnd.jupyter.widget-view+json": {
       "model_id": "2bad8d3e2059460caf81a9fca018e636",
       "version_major": 2,
       "version_minor": 0
      },
      "text/plain": [
       "0it [00:00, ?it/s]"
      ]
     },
     "metadata": {},
     "output_type": "display_data"
    },
    {
     "name": "stderr",
     "output_type": "stream",
     "text": [
      "E:\\Annemarie\\DRG Segmentation\\DRG Segmentation Paper\\drg.py:168: RuntimeWarning: invalid value encountered in double_scalars\n",
      "  return np.sum(masked)/np.sum(mask)\n",
      "E:\\Annemarie\\DRG Segmentation\\DRG Segmentation Paper\\drg.py:118: RuntimeWarning: invalid value encountered in true_divide\n",
      "  gfap_overlap = overlap_area/gfap_area\n",
      "E:\\Annemarie\\DRG Segmentation\\DRG Segmentation Paper\\drg.py:168: RuntimeWarning: invalid value encountered in double_scalars\n",
      "  return np.sum(masked)/np.sum(mask)\n",
      "E:\\Annemarie\\DRG Segmentation\\DRG Segmentation Paper\\drg.py:117: RuntimeWarning: invalid value encountered in true_divide\n",
      "  gs_overlap = overlap_area/gs_area\n",
      "E:\\Annemarie\\DRG Segmentation\\DRG Segmentation Paper\\drg.py:118: RuntimeWarning: invalid value encountered in true_divide\n",
      "  gfap_overlap = overlap_area/gfap_area\n"
     ]
    },
    {
     "data": {
      "application/vnd.jupyter.widget-view+json": {
       "model_id": "0c87a6dfb3e14388b11b35b37dafd868",
       "version_major": 2,
       "version_minor": 0
      },
      "text/plain": [
       "0it [00:00, ?it/s]"
      ]
     },
     "metadata": {},
     "output_type": "display_data"
    },
    {
     "data": {
      "application/vnd.jupyter.widget-view+json": {
       "model_id": "86ba19ab4d2a4fa982c54c19a587c92b",
       "version_major": 2,
       "version_minor": 0
      },
      "text/plain": [
       "  0%|          | 0/6 [00:00<?, ?it/s]"
      ]
     },
     "metadata": {},
     "output_type": "display_data"
    },
    {
     "data": {
      "application/vnd.jupyter.widget-view+json": {
       "model_id": "ac9ecb575d5c4379889c901bb46faf98",
       "version_major": 2,
       "version_minor": 0
      },
      "text/plain": [
       "0it [00:00, ?it/s]"
      ]
     },
     "metadata": {},
     "output_type": "display_data"
    },
    {
     "name": "stderr",
     "output_type": "stream",
     "text": [
      "E:\\Annemarie\\DRG Segmentation\\DRG Segmentation Paper\\drg.py:168: RuntimeWarning: invalid value encountered in double_scalars\n",
      "  return np.sum(masked)/np.sum(mask)\n",
      "E:\\Annemarie\\DRG Segmentation\\DRG Segmentation Paper\\drg.py:117: RuntimeWarning: invalid value encountered in true_divide\n",
      "  gs_overlap = overlap_area/gs_area\n",
      "E:\\Annemarie\\DRG Segmentation\\DRG Segmentation Paper\\drg.py:118: RuntimeWarning: invalid value encountered in true_divide\n",
      "  gfap_overlap = overlap_area/gfap_area\n",
      "E:\\Annemarie\\DRG Segmentation\\DRG Segmentation Paper\\drg.py:168: RuntimeWarning: invalid value encountered in double_scalars\n",
      "  return np.sum(masked)/np.sum(mask)\n",
      "E:\\Annemarie\\DRG Segmentation\\DRG Segmentation Paper\\drg.py:118: RuntimeWarning: invalid value encountered in true_divide\n",
      "  gfap_overlap = overlap_area/gfap_area\n",
      "E:\\Annemarie\\DRG Segmentation\\DRG Segmentation Paper\\drg.py:168: RuntimeWarning: invalid value encountered in double_scalars\n",
      "  return np.sum(masked)/np.sum(mask)\n",
      "E:\\Annemarie\\DRG Segmentation\\DRG Segmentation Paper\\drg.py:118: RuntimeWarning: invalid value encountered in true_divide\n",
      "  gfap_overlap = overlap_area/gfap_area\n",
      "E:\\Annemarie\\DRG Segmentation\\DRG Segmentation Paper\\drg.py:168: RuntimeWarning: invalid value encountered in double_scalars\n",
      "  return np.sum(masked)/np.sum(mask)\n",
      "E:\\Annemarie\\DRG Segmentation\\DRG Segmentation Paper\\drg.py:117: RuntimeWarning: invalid value encountered in true_divide\n",
      "  gs_overlap = overlap_area/gs_area\n",
      "E:\\Annemarie\\DRG Segmentation\\DRG Segmentation Paper\\drg.py:118: RuntimeWarning: invalid value encountered in true_divide\n",
      "  gfap_overlap = overlap_area/gfap_area\n",
      "E:\\Annemarie\\DRG Segmentation\\DRG Segmentation Paper\\drg.py:168: RuntimeWarning: invalid value encountered in double_scalars\n",
      "  return np.sum(masked)/np.sum(mask)\n",
      "E:\\Annemarie\\DRG Segmentation\\DRG Segmentation Paper\\drg.py:117: RuntimeWarning: invalid value encountered in true_divide\n",
      "  gs_overlap = overlap_area/gs_area\n",
      "E:\\Annemarie\\DRG Segmentation\\DRG Segmentation Paper\\drg.py:118: RuntimeWarning: invalid value encountered in true_divide\n",
      "  gfap_overlap = overlap_area/gfap_area\n"
     ]
    },
    {
     "data": {
      "application/vnd.jupyter.widget-view+json": {
       "model_id": "eecfcc58759c47cc97eee4d571134f9a",
       "version_major": 2,
       "version_minor": 0
      },
      "text/plain": [
       "0it [00:00, ?it/s]"
      ]
     },
     "metadata": {},
     "output_type": "display_data"
    },
    {
     "data": {
      "application/vnd.jupyter.widget-view+json": {
       "model_id": "506c355775c940508bad41bb530cc129",
       "version_major": 2,
       "version_minor": 0
      },
      "text/plain": [
       "0it [00:00, ?it/s]"
      ]
     },
     "metadata": {},
     "output_type": "display_data"
    },
    {
     "name": "stderr",
     "output_type": "stream",
     "text": [
      "E:\\Annemarie\\DRG Segmentation\\DRG Segmentation Paper\\drg.py:168: RuntimeWarning: invalid value encountered in double_scalars\n",
      "  return np.sum(masked)/np.sum(mask)\n",
      "E:\\Annemarie\\DRG Segmentation\\DRG Segmentation Paper\\drg.py:118: RuntimeWarning: invalid value encountered in true_divide\n",
      "  gfap_overlap = overlap_area/gfap_area\n"
     ]
    },
    {
     "data": {
      "application/vnd.jupyter.widget-view+json": {
       "model_id": "14636e59043642ad90bd0515d2016152",
       "version_major": 2,
       "version_minor": 0
      },
      "text/plain": [
       "0it [00:00, ?it/s]"
      ]
     },
     "metadata": {},
     "output_type": "display_data"
    },
    {
     "data": {
      "application/vnd.jupyter.widget-view+json": {
       "model_id": "911df45963f74b318f61ded2a98ab2ca",
       "version_major": 2,
       "version_minor": 0
      },
      "text/plain": [
       "0it [00:00, ?it/s]"
      ]
     },
     "metadata": {},
     "output_type": "display_data"
    },
    {
     "data": {
      "application/vnd.jupyter.widget-view+json": {
       "model_id": "80cb4f27e5324360ae73389ee02d7692",
       "version_major": 2,
       "version_minor": 0
      },
      "text/plain": [
       "0it [00:00, ?it/s]"
      ]
     },
     "metadata": {},
     "output_type": "display_data"
    },
    {
     "data": {
      "application/vnd.jupyter.widget-view+json": {
       "model_id": "4b9f555e53784935be93e533d66dd68e",
       "version_major": 2,
       "version_minor": 0
      },
      "text/plain": [
       "  0%|          | 0/6 [00:00<?, ?it/s]"
      ]
     },
     "metadata": {},
     "output_type": "display_data"
    },
    {
     "data": {
      "application/vnd.jupyter.widget-view+json": {
       "model_id": "3d40fa4aac3f4690bf41e28f1b470d45",
       "version_major": 2,
       "version_minor": 0
      },
      "text/plain": [
       "0it [00:00, ?it/s]"
      ]
     },
     "metadata": {},
     "output_type": "display_data"
    },
    {
     "name": "stderr",
     "output_type": "stream",
     "text": [
      "E:\\Annemarie\\DRG Segmentation\\DRG Segmentation Paper\\drg.py:168: RuntimeWarning: invalid value encountered in double_scalars\n",
      "  return np.sum(masked)/np.sum(mask)\n",
      "E:\\Annemarie\\DRG Segmentation\\DRG Segmentation Paper\\drg.py:117: RuntimeWarning: invalid value encountered in true_divide\n",
      "  gs_overlap = overlap_area/gs_area\n",
      "E:\\Annemarie\\DRG Segmentation\\DRG Segmentation Paper\\drg.py:118: RuntimeWarning: invalid value encountered in true_divide\n",
      "  gfap_overlap = overlap_area/gfap_area\n",
      "E:\\Annemarie\\DRG Segmentation\\DRG Segmentation Paper\\drg.py:168: RuntimeWarning: invalid value encountered in double_scalars\n",
      "  return np.sum(masked)/np.sum(mask)\n",
      "E:\\Annemarie\\DRG Segmentation\\DRG Segmentation Paper\\drg.py:117: RuntimeWarning: invalid value encountered in true_divide\n",
      "  gs_overlap = overlap_area/gs_area\n",
      "E:\\Annemarie\\DRG Segmentation\\DRG Segmentation Paper\\drg.py:118: RuntimeWarning: invalid value encountered in true_divide\n",
      "  gfap_overlap = overlap_area/gfap_area\n"
     ]
    },
    {
     "data": {
      "application/vnd.jupyter.widget-view+json": {
       "model_id": "e8fbe56eda4b42eaaccd738c5905fe6a",
       "version_major": 2,
       "version_minor": 0
      },
      "text/plain": [
       "0it [00:00, ?it/s]"
      ]
     },
     "metadata": {},
     "output_type": "display_data"
    },
    {
     "name": "stderr",
     "output_type": "stream",
     "text": [
      "E:\\Annemarie\\DRG Segmentation\\DRG Segmentation Paper\\drg.py:168: RuntimeWarning: invalid value encountered in double_scalars\n",
      "  return np.sum(masked)/np.sum(mask)\n",
      "E:\\Annemarie\\DRG Segmentation\\DRG Segmentation Paper\\drg.py:118: RuntimeWarning: invalid value encountered in true_divide\n",
      "  gfap_overlap = overlap_area/gfap_area\n"
     ]
    },
    {
     "data": {
      "application/vnd.jupyter.widget-view+json": {
       "model_id": "8001872d27994bb68d14dc2b6308f5fc",
       "version_major": 2,
       "version_minor": 0
      },
      "text/plain": [
       "0it [00:00, ?it/s]"
      ]
     },
     "metadata": {},
     "output_type": "display_data"
    },
    {
     "data": {
      "application/vnd.jupyter.widget-view+json": {
       "model_id": "c9e486471d464d319dd690cd688307bd",
       "version_major": 2,
       "version_minor": 0
      },
      "text/plain": [
       "0it [00:00, ?it/s]"
      ]
     },
     "metadata": {},
     "output_type": "display_data"
    },
    {
     "name": "stderr",
     "output_type": "stream",
     "text": [
      "E:\\Annemarie\\DRG Segmentation\\DRG Segmentation Paper\\drg.py:168: RuntimeWarning: invalid value encountered in double_scalars\n",
      "  return np.sum(masked)/np.sum(mask)\n",
      "E:\\Annemarie\\DRG Segmentation\\DRG Segmentation Paper\\drg.py:118: RuntimeWarning: invalid value encountered in true_divide\n",
      "  gfap_overlap = overlap_area/gfap_area\n"
     ]
    },
    {
     "data": {
      "application/vnd.jupyter.widget-view+json": {
       "model_id": "bbb380fb6557481f94597a02371f40bc",
       "version_major": 2,
       "version_minor": 0
      },
      "text/plain": [
       "0it [00:00, ?it/s]"
      ]
     },
     "metadata": {},
     "output_type": "display_data"
    },
    {
     "name": "stderr",
     "output_type": "stream",
     "text": [
      "E:\\Annemarie\\DRG Segmentation\\DRG Segmentation Paper\\drg.py:168: RuntimeWarning: invalid value encountered in double_scalars\n",
      "  return np.sum(masked)/np.sum(mask)\n",
      "E:\\Annemarie\\DRG Segmentation\\DRG Segmentation Paper\\drg.py:118: RuntimeWarning: invalid value encountered in true_divide\n",
      "  gfap_overlap = overlap_area/gfap_area\n",
      "E:\\Annemarie\\DRG Segmentation\\DRG Segmentation Paper\\drg.py:168: RuntimeWarning: invalid value encountered in double_scalars\n",
      "  return np.sum(masked)/np.sum(mask)\n",
      "E:\\Annemarie\\DRG Segmentation\\DRG Segmentation Paper\\drg.py:117: RuntimeWarning: invalid value encountered in true_divide\n",
      "  gs_overlap = overlap_area/gs_area\n",
      "E:\\Annemarie\\DRG Segmentation\\DRG Segmentation Paper\\drg.py:118: RuntimeWarning: invalid value encountered in true_divide\n",
      "  gfap_overlap = overlap_area/gfap_area\n"
     ]
    },
    {
     "data": {
      "application/vnd.jupyter.widget-view+json": {
       "model_id": "891b9085cfbe4480bdf58eb9fd827097",
       "version_major": 2,
       "version_minor": 0
      },
      "text/plain": [
       "0it [00:00, ?it/s]"
      ]
     },
     "metadata": {},
     "output_type": "display_data"
    },
    {
     "name": "stderr",
     "output_type": "stream",
     "text": [
      "E:\\Annemarie\\DRG Segmentation\\DRG Segmentation Paper\\drg.py:168: RuntimeWarning: invalid value encountered in double_scalars\n",
      "  return np.sum(masked)/np.sum(mask)\n",
      "E:\\Annemarie\\DRG Segmentation\\DRG Segmentation Paper\\drg.py:118: RuntimeWarning: invalid value encountered in true_divide\n",
      "  gfap_overlap = overlap_area/gfap_area\n",
      "E:\\Annemarie\\DRG Segmentation\\DRG Segmentation Paper\\drg.py:168: RuntimeWarning: invalid value encountered in double_scalars\n",
      "  return np.sum(masked)/np.sum(mask)\n",
      "E:\\Annemarie\\DRG Segmentation\\DRG Segmentation Paper\\drg.py:118: RuntimeWarning: invalid value encountered in true_divide\n",
      "  gfap_overlap = overlap_area/gfap_area\n",
      "E:\\Annemarie\\DRG Segmentation\\DRG Segmentation Paper\\drg.py:168: RuntimeWarning: invalid value encountered in double_scalars\n",
      "  return np.sum(masked)/np.sum(mask)\n",
      "E:\\Annemarie\\DRG Segmentation\\DRG Segmentation Paper\\drg.py:118: RuntimeWarning: invalid value encountered in true_divide\n",
      "  gfap_overlap = overlap_area/gfap_area\n"
     ]
    },
    {
     "data": {
      "application/vnd.jupyter.widget-view+json": {
       "model_id": "ae6bf4f38a2740ce91d82322c64cb24d",
       "version_major": 2,
       "version_minor": 0
      },
      "text/plain": [
       "  0%|          | 0/6 [00:00<?, ?it/s]"
      ]
     },
     "metadata": {},
     "output_type": "display_data"
    },
    {
     "data": {
      "application/vnd.jupyter.widget-view+json": {
       "model_id": "5cd5336f03c3487abc83ad86dc45b7b9",
       "version_major": 2,
       "version_minor": 0
      },
      "text/plain": [
       "0it [00:00, ?it/s]"
      ]
     },
     "metadata": {},
     "output_type": "display_data"
    },
    {
     "name": "stderr",
     "output_type": "stream",
     "text": [
      "E:\\Annemarie\\DRG Segmentation\\DRG Segmentation Paper\\drg.py:168: RuntimeWarning: invalid value encountered in double_scalars\n",
      "  return np.sum(masked)/np.sum(mask)\n",
      "E:\\Annemarie\\DRG Segmentation\\DRG Segmentation Paper\\drg.py:117: RuntimeWarning: invalid value encountered in true_divide\n",
      "  gs_overlap = overlap_area/gs_area\n",
      "E:\\Annemarie\\DRG Segmentation\\DRG Segmentation Paper\\drg.py:118: RuntimeWarning: invalid value encountered in true_divide\n",
      "  gfap_overlap = overlap_area/gfap_area\n",
      "E:\\Annemarie\\DRG Segmentation\\DRG Segmentation Paper\\drg.py:168: RuntimeWarning: invalid value encountered in double_scalars\n",
      "  return np.sum(masked)/np.sum(mask)\n",
      "E:\\Annemarie\\DRG Segmentation\\DRG Segmentation Paper\\drg.py:117: RuntimeWarning: invalid value encountered in true_divide\n",
      "  gs_overlap = overlap_area/gs_area\n",
      "E:\\Annemarie\\DRG Segmentation\\DRG Segmentation Paper\\drg.py:118: RuntimeWarning: invalid value encountered in true_divide\n",
      "  gfap_overlap = overlap_area/gfap_area\n"
     ]
    },
    {
     "data": {
      "application/vnd.jupyter.widget-view+json": {
       "model_id": "68842aa5bce44904baf1a55f301066d0",
       "version_major": 2,
       "version_minor": 0
      },
      "text/plain": [
       "0it [00:00, ?it/s]"
      ]
     },
     "metadata": {},
     "output_type": "display_data"
    },
    {
     "data": {
      "application/vnd.jupyter.widget-view+json": {
       "model_id": "b94664228ef849a3a2d6bba685537084",
       "version_major": 2,
       "version_minor": 0
      },
      "text/plain": [
       "0it [00:00, ?it/s]"
      ]
     },
     "metadata": {},
     "output_type": "display_data"
    },
    {
     "data": {
      "application/vnd.jupyter.widget-view+json": {
       "model_id": "eaa330b618474a45b2d4a582716d93b4",
       "version_major": 2,
       "version_minor": 0
      },
      "text/plain": [
       "0it [00:00, ?it/s]"
      ]
     },
     "metadata": {},
     "output_type": "display_data"
    },
    {
     "data": {
      "application/vnd.jupyter.widget-view+json": {
       "model_id": "acec482d96074931aad1f4351c1bb8cd",
       "version_major": 2,
       "version_minor": 0
      },
      "text/plain": [
       "0it [00:00, ?it/s]"
      ]
     },
     "metadata": {},
     "output_type": "display_data"
    },
    {
     "data": {
      "application/vnd.jupyter.widget-view+json": {
       "model_id": "d2a49cb926074d21856cea4929c86ff3",
       "version_major": 2,
       "version_minor": 0
      },
      "text/plain": [
       "0it [00:00, ?it/s]"
      ]
     },
     "metadata": {},
     "output_type": "display_data"
    }
   ],
   "source": [
    "images_to_numbers_new(d14_sni,'D14_SNI')"
   ]
  },
  {
   "cell_type": "code",
   "execution_count": 8,
   "metadata": {
    "scrolled": true
   },
   "outputs": [
    {
     "data": {
      "application/vnd.jupyter.widget-view+json": {
       "model_id": "643318335e3a4768a4e918b2823b7044",
       "version_major": 2,
       "version_minor": 0
      },
      "text/plain": [
       "  0%|          | 0/4 [00:00<?, ?it/s]"
      ]
     },
     "metadata": {},
     "output_type": "display_data"
    },
    {
     "data": {
      "application/vnd.jupyter.widget-view+json": {
       "model_id": "1df9562f182f44a481cb8359469c2ff6",
       "version_major": 2,
       "version_minor": 0
      },
      "text/plain": [
       "  0%|          | 0/5 [00:00<?, ?it/s]"
      ]
     },
     "metadata": {},
     "output_type": "display_data"
    },
    {
     "data": {
      "application/vnd.jupyter.widget-view+json": {
       "model_id": "16348c68b98c4501b2a775068b5b0860",
       "version_major": 2,
       "version_minor": 0
      },
      "text/plain": [
       "0it [00:00, ?it/s]"
      ]
     },
     "metadata": {},
     "output_type": "display_data"
    },
    {
     "name": "stderr",
     "output_type": "stream",
     "text": [
      "E:\\Annemarie\\DRG Segmentation\\DRG Segmentation Paper\\drg.py:168: RuntimeWarning: invalid value encountered in double_scalars\n",
      "  return np.sum(masked)/np.sum(mask)\n",
      "E:\\Annemarie\\DRG Segmentation\\DRG Segmentation Paper\\drg.py:117: RuntimeWarning: invalid value encountered in true_divide\n",
      "  gs_overlap = overlap_area/gs_area\n",
      "E:\\Annemarie\\DRG Segmentation\\DRG Segmentation Paper\\drg.py:118: RuntimeWarning: invalid value encountered in true_divide\n",
      "  gfap_overlap = overlap_area/gfap_area\n"
     ]
    },
    {
     "data": {
      "application/vnd.jupyter.widget-view+json": {
       "model_id": "c64767dd8750446bb6b89410dc3a7255",
       "version_major": 2,
       "version_minor": 0
      },
      "text/plain": [
       "0it [00:00, ?it/s]"
      ]
     },
     "metadata": {},
     "output_type": "display_data"
    },
    {
     "data": {
      "application/vnd.jupyter.widget-view+json": {
       "model_id": "629fc5795e3a4f579b6d676a49e1adca",
       "version_major": 2,
       "version_minor": 0
      },
      "text/plain": [
       "0it [00:00, ?it/s]"
      ]
     },
     "metadata": {},
     "output_type": "display_data"
    },
    {
     "data": {
      "application/vnd.jupyter.widget-view+json": {
       "model_id": "e0d9e38dfdd14fb2811dab2622d07996",
       "version_major": 2,
       "version_minor": 0
      },
      "text/plain": [
       "0it [00:00, ?it/s]"
      ]
     },
     "metadata": {},
     "output_type": "display_data"
    },
    {
     "data": {
      "application/vnd.jupyter.widget-view+json": {
       "model_id": "322a7570e9cb4fd499ed84c3068ad9d1",
       "version_major": 2,
       "version_minor": 0
      },
      "text/plain": [
       "0it [00:00, ?it/s]"
      ]
     },
     "metadata": {},
     "output_type": "display_data"
    },
    {
     "data": {
      "application/vnd.jupyter.widget-view+json": {
       "model_id": "d331c565a33d4ed080e06b6993d1d427",
       "version_major": 2,
       "version_minor": 0
      },
      "text/plain": [
       "  0%|          | 0/5 [00:00<?, ?it/s]"
      ]
     },
     "metadata": {},
     "output_type": "display_data"
    },
    {
     "data": {
      "application/vnd.jupyter.widget-view+json": {
       "model_id": "21603785f98b488fb7980b9189468cf2",
       "version_major": 2,
       "version_minor": 0
      },
      "text/plain": [
       "0it [00:00, ?it/s]"
      ]
     },
     "metadata": {},
     "output_type": "display_data"
    },
    {
     "data": {
      "application/vnd.jupyter.widget-view+json": {
       "model_id": "30f2ac85e62d4205b0214bf239bc47e1",
       "version_major": 2,
       "version_minor": 0
      },
      "text/plain": [
       "0it [00:00, ?it/s]"
      ]
     },
     "metadata": {},
     "output_type": "display_data"
    },
    {
     "name": "stderr",
     "output_type": "stream",
     "text": [
      "E:\\Annemarie\\DRG Segmentation\\DRG Segmentation Paper\\drg.py:168: RuntimeWarning: invalid value encountered in double_scalars\n",
      "  return np.sum(masked)/np.sum(mask)\n",
      "E:\\Annemarie\\DRG Segmentation\\DRG Segmentation Paper\\drg.py:118: RuntimeWarning: invalid value encountered in true_divide\n",
      "  gfap_overlap = overlap_area/gfap_area\n",
      "E:\\Annemarie\\DRG Segmentation\\DRG Segmentation Paper\\drg.py:168: RuntimeWarning: invalid value encountered in double_scalars\n",
      "  return np.sum(masked)/np.sum(mask)\n",
      "E:\\Annemarie\\DRG Segmentation\\DRG Segmentation Paper\\drg.py:118: RuntimeWarning: invalid value encountered in true_divide\n",
      "  gfap_overlap = overlap_area/gfap_area\n"
     ]
    },
    {
     "data": {
      "application/vnd.jupyter.widget-view+json": {
       "model_id": "f97321a9ee5447a682ee01e16430fd56",
       "version_major": 2,
       "version_minor": 0
      },
      "text/plain": [
       "0it [00:00, ?it/s]"
      ]
     },
     "metadata": {},
     "output_type": "display_data"
    },
    {
     "data": {
      "application/vnd.jupyter.widget-view+json": {
       "model_id": "57fc9709984c4e97bcfd9dcfd5d6cd81",
       "version_major": 2,
       "version_minor": 0
      },
      "text/plain": [
       "0it [00:00, ?it/s]"
      ]
     },
     "metadata": {},
     "output_type": "display_data"
    },
    {
     "data": {
      "application/vnd.jupyter.widget-view+json": {
       "model_id": "6ce10b6182b649cc80ed32e0fe510609",
       "version_major": 2,
       "version_minor": 0
      },
      "text/plain": [
       "0it [00:00, ?it/s]"
      ]
     },
     "metadata": {},
     "output_type": "display_data"
    },
    {
     "data": {
      "application/vnd.jupyter.widget-view+json": {
       "model_id": "130cec3ceb134795aea0d70e674c22b8",
       "version_major": 2,
       "version_minor": 0
      },
      "text/plain": [
       "  0%|          | 0/5 [00:00<?, ?it/s]"
      ]
     },
     "metadata": {},
     "output_type": "display_data"
    },
    {
     "data": {
      "application/vnd.jupyter.widget-view+json": {
       "model_id": "0479d0cb30b5402ebe597ce431ad4623",
       "version_major": 2,
       "version_minor": 0
      },
      "text/plain": [
       "0it [00:00, ?it/s]"
      ]
     },
     "metadata": {},
     "output_type": "display_data"
    },
    {
     "data": {
      "application/vnd.jupyter.widget-view+json": {
       "model_id": "4e125a4faf1b430e9e220f3e85c8fa5d",
       "version_major": 2,
       "version_minor": 0
      },
      "text/plain": [
       "0it [00:00, ?it/s]"
      ]
     },
     "metadata": {},
     "output_type": "display_data"
    },
    {
     "data": {
      "application/vnd.jupyter.widget-view+json": {
       "model_id": "d64fbdd1f50a4c73bcaebf2eaac3ee4b",
       "version_major": 2,
       "version_minor": 0
      },
      "text/plain": [
       "0it [00:00, ?it/s]"
      ]
     },
     "metadata": {},
     "output_type": "display_data"
    },
    {
     "name": "stderr",
     "output_type": "stream",
     "text": [
      "E:\\Annemarie\\DRG Segmentation\\DRG Segmentation Paper\\drg.py:168: RuntimeWarning: invalid value encountered in double_scalars\n",
      "  return np.sum(masked)/np.sum(mask)\n",
      "E:\\Annemarie\\DRG Segmentation\\DRG Segmentation Paper\\drg.py:118: RuntimeWarning: invalid value encountered in true_divide\n",
      "  gfap_overlap = overlap_area/gfap_area\n"
     ]
    },
    {
     "data": {
      "application/vnd.jupyter.widget-view+json": {
       "model_id": "8390aa38a82749b3b637743a08fa2478",
       "version_major": 2,
       "version_minor": 0
      },
      "text/plain": [
       "0it [00:00, ?it/s]"
      ]
     },
     "metadata": {},
     "output_type": "display_data"
    },
    {
     "name": "stderr",
     "output_type": "stream",
     "text": [
      "E:\\Annemarie\\DRG Segmentation\\DRG Segmentation Paper\\drg.py:168: RuntimeWarning: invalid value encountered in double_scalars\n",
      "  return np.sum(masked)/np.sum(mask)\n",
      "E:\\Annemarie\\DRG Segmentation\\DRG Segmentation Paper\\drg.py:118: RuntimeWarning: invalid value encountered in true_divide\n",
      "  gfap_overlap = overlap_area/gfap_area\n",
      "E:\\Annemarie\\DRG Segmentation\\DRG Segmentation Paper\\drg.py:168: RuntimeWarning: invalid value encountered in double_scalars\n",
      "  return np.sum(masked)/np.sum(mask)\n",
      "E:\\Annemarie\\DRG Segmentation\\DRG Segmentation Paper\\drg.py:118: RuntimeWarning: invalid value encountered in true_divide\n",
      "  gfap_overlap = overlap_area/gfap_area\n",
      "E:\\Annemarie\\DRG Segmentation\\DRG Segmentation Paper\\drg.py:168: RuntimeWarning: invalid value encountered in double_scalars\n",
      "  return np.sum(masked)/np.sum(mask)\n",
      "E:\\Annemarie\\DRG Segmentation\\DRG Segmentation Paper\\drg.py:118: RuntimeWarning: invalid value encountered in true_divide\n",
      "  gfap_overlap = overlap_area/gfap_area\n"
     ]
    },
    {
     "data": {
      "application/vnd.jupyter.widget-view+json": {
       "model_id": "f5fb4cba3e574b05a002b959d2535299",
       "version_major": 2,
       "version_minor": 0
      },
      "text/plain": [
       "0it [00:00, ?it/s]"
      ]
     },
     "metadata": {},
     "output_type": "display_data"
    },
    {
     "data": {
      "application/vnd.jupyter.widget-view+json": {
       "model_id": "a44430d47f5d408b84d77ec910d0117a",
       "version_major": 2,
       "version_minor": 0
      },
      "text/plain": [
       "  0%|          | 0/5 [00:00<?, ?it/s]"
      ]
     },
     "metadata": {},
     "output_type": "display_data"
    },
    {
     "data": {
      "application/vnd.jupyter.widget-view+json": {
       "model_id": "c21d1796e69046dcb82ff5c07d96f069",
       "version_major": 2,
       "version_minor": 0
      },
      "text/plain": [
       "0it [00:00, ?it/s]"
      ]
     },
     "metadata": {},
     "output_type": "display_data"
    },
    {
     "data": {
      "application/vnd.jupyter.widget-view+json": {
       "model_id": "2631f60ee7ba44808b77ba58813043ec",
       "version_major": 2,
       "version_minor": 0
      },
      "text/plain": [
       "0it [00:00, ?it/s]"
      ]
     },
     "metadata": {},
     "output_type": "display_data"
    },
    {
     "name": "stderr",
     "output_type": "stream",
     "text": [
      "E:\\Annemarie\\DRG Segmentation\\DRG Segmentation Paper\\drg.py:168: RuntimeWarning: invalid value encountered in double_scalars\n",
      "  return np.sum(masked)/np.sum(mask)\n",
      "E:\\Annemarie\\DRG Segmentation\\DRG Segmentation Paper\\drg.py:118: RuntimeWarning: invalid value encountered in true_divide\n",
      "  gfap_overlap = overlap_area/gfap_area\n"
     ]
    },
    {
     "data": {
      "application/vnd.jupyter.widget-view+json": {
       "model_id": "31f122e3e3d846538fb7611e9c85f052",
       "version_major": 2,
       "version_minor": 0
      },
      "text/plain": [
       "0it [00:00, ?it/s]"
      ]
     },
     "metadata": {},
     "output_type": "display_data"
    },
    {
     "data": {
      "application/vnd.jupyter.widget-view+json": {
       "model_id": "4d497fa6372b4284a6906d23ebadce0d",
       "version_major": 2,
       "version_minor": 0
      },
      "text/plain": [
       "0it [00:00, ?it/s]"
      ]
     },
     "metadata": {},
     "output_type": "display_data"
    },
    {
     "name": "stderr",
     "output_type": "stream",
     "text": [
      "E:\\Annemarie\\DRG Segmentation\\DRG Segmentation Paper\\drg.py:168: RuntimeWarning: invalid value encountered in double_scalars\n",
      "  return np.sum(masked)/np.sum(mask)\n",
      "E:\\Annemarie\\DRG Segmentation\\DRG Segmentation Paper\\drg.py:118: RuntimeWarning: invalid value encountered in true_divide\n",
      "  gfap_overlap = overlap_area/gfap_area\n"
     ]
    },
    {
     "data": {
      "application/vnd.jupyter.widget-view+json": {
       "model_id": "bf6140b5ddef47aca655ad05e462ce83",
       "version_major": 2,
       "version_minor": 0
      },
      "text/plain": [
       "0it [00:00, ?it/s]"
      ]
     },
     "metadata": {},
     "output_type": "display_data"
    },
    {
     "name": "stderr",
     "output_type": "stream",
     "text": [
      "E:\\Annemarie\\DRG Segmentation\\DRG Segmentation Paper\\drg.py:168: RuntimeWarning: invalid value encountered in double_scalars\n",
      "  return np.sum(masked)/np.sum(mask)\n",
      "E:\\Annemarie\\DRG Segmentation\\DRG Segmentation Paper\\drg.py:118: RuntimeWarning: invalid value encountered in true_divide\n",
      "  gfap_overlap = overlap_area/gfap_area\n"
     ]
    }
   ],
   "source": [
    "images_to_numbers_new(d14_sham,'D14_Sham')"
   ]
  },
  {
   "cell_type": "code",
   "execution_count": 9,
   "metadata": {},
   "outputs": [
    {
     "data": {
      "application/vnd.jupyter.widget-view+json": {
       "model_id": "480ba63e05ca4d1bb4e43b5b0b6fe59c",
       "version_major": 2,
       "version_minor": 0
      },
      "text/plain": [
       "  0%|          | 0/4 [00:00<?, ?it/s]"
      ]
     },
     "metadata": {},
     "output_type": "display_data"
    },
    {
     "data": {
      "application/vnd.jupyter.widget-view+json": {
       "model_id": "f9f9663b5f204938a2c4a38c9a572fdb",
       "version_major": 2,
       "version_minor": 0
      },
      "text/plain": [
       "  0%|          | 0/6 [00:00<?, ?it/s]"
      ]
     },
     "metadata": {},
     "output_type": "display_data"
    },
    {
     "data": {
      "application/vnd.jupyter.widget-view+json": {
       "model_id": "d66350ece5f14cae9f1ab9ac9eb0c4fa",
       "version_major": 2,
       "version_minor": 0
      },
      "text/plain": [
       "0it [00:00, ?it/s]"
      ]
     },
     "metadata": {},
     "output_type": "display_data"
    },
    {
     "data": {
      "application/vnd.jupyter.widget-view+json": {
       "model_id": "4aa0a496b86c4722ba2b3988bf61550d",
       "version_major": 2,
       "version_minor": 0
      },
      "text/plain": [
       "0it [00:00, ?it/s]"
      ]
     },
     "metadata": {},
     "output_type": "display_data"
    },
    {
     "data": {
      "application/vnd.jupyter.widget-view+json": {
       "model_id": "2aacce869b3f40b6b400eb0b5f6f5023",
       "version_major": 2,
       "version_minor": 0
      },
      "text/plain": [
       "0it [00:00, ?it/s]"
      ]
     },
     "metadata": {},
     "output_type": "display_data"
    },
    {
     "name": "stderr",
     "output_type": "stream",
     "text": [
      "E:\\Annemarie\\DRG Segmentation\\DRG Segmentation Paper\\drg.py:168: RuntimeWarning: invalid value encountered in double_scalars\n",
      "  return np.sum(masked)/np.sum(mask)\n",
      "E:\\Annemarie\\DRG Segmentation\\DRG Segmentation Paper\\drg.py:117: RuntimeWarning: invalid value encountered in true_divide\n",
      "  gs_overlap = overlap_area/gs_area\n",
      "E:\\Annemarie\\DRG Segmentation\\DRG Segmentation Paper\\drg.py:118: RuntimeWarning: invalid value encountered in true_divide\n",
      "  gfap_overlap = overlap_area/gfap_area\n"
     ]
    },
    {
     "data": {
      "application/vnd.jupyter.widget-view+json": {
       "model_id": "2d7f0c5f4757404fbc56d8236d566027",
       "version_major": 2,
       "version_minor": 0
      },
      "text/plain": [
       "0it [00:00, ?it/s]"
      ]
     },
     "metadata": {},
     "output_type": "display_data"
    },
    {
     "name": "stderr",
     "output_type": "stream",
     "text": [
      "E:\\Annemarie\\DRG Segmentation\\DRG Segmentation Paper\\drg.py:168: RuntimeWarning: invalid value encountered in double_scalars\n",
      "  return np.sum(masked)/np.sum(mask)\n",
      "E:\\Annemarie\\DRG Segmentation\\DRG Segmentation Paper\\drg.py:118: RuntimeWarning: invalid value encountered in true_divide\n",
      "  gfap_overlap = overlap_area/gfap_area\n",
      "E:\\Annemarie\\DRG Segmentation\\DRG Segmentation Paper\\drg.py:168: RuntimeWarning: invalid value encountered in double_scalars\n",
      "  return np.sum(masked)/np.sum(mask)\n",
      "E:\\Annemarie\\DRG Segmentation\\DRG Segmentation Paper\\drg.py:118: RuntimeWarning: invalid value encountered in true_divide\n",
      "  gfap_overlap = overlap_area/gfap_area\n",
      "E:\\Annemarie\\DRG Segmentation\\DRG Segmentation Paper\\drg.py:168: RuntimeWarning: invalid value encountered in double_scalars\n",
      "  return np.sum(masked)/np.sum(mask)\n",
      "E:\\Annemarie\\DRG Segmentation\\DRG Segmentation Paper\\drg.py:118: RuntimeWarning: invalid value encountered in true_divide\n",
      "  gfap_overlap = overlap_area/gfap_area\n",
      "E:\\Annemarie\\DRG Segmentation\\DRG Segmentation Paper\\drg.py:168: RuntimeWarning: invalid value encountered in double_scalars\n",
      "  return np.sum(masked)/np.sum(mask)\n",
      "E:\\Annemarie\\DRG Segmentation\\DRG Segmentation Paper\\drg.py:118: RuntimeWarning: invalid value encountered in true_divide\n",
      "  gfap_overlap = overlap_area/gfap_area\n"
     ]
    },
    {
     "data": {
      "application/vnd.jupyter.widget-view+json": {
       "model_id": "c7585737d41c4ae9b283d06d6a6a2a31",
       "version_major": 2,
       "version_minor": 0
      },
      "text/plain": [
       "0it [00:00, ?it/s]"
      ]
     },
     "metadata": {},
     "output_type": "display_data"
    },
    {
     "name": "stderr",
     "output_type": "stream",
     "text": [
      "E:\\Annemarie\\DRG Segmentation\\DRG Segmentation Paper\\drg.py:168: RuntimeWarning: invalid value encountered in double_scalars\n",
      "  return np.sum(masked)/np.sum(mask)\n",
      "E:\\Annemarie\\DRG Segmentation\\DRG Segmentation Paper\\drg.py:118: RuntimeWarning: invalid value encountered in true_divide\n",
      "  gfap_overlap = overlap_area/gfap_area\n",
      "E:\\Annemarie\\DRG Segmentation\\DRG Segmentation Paper\\drg.py:168: RuntimeWarning: invalid value encountered in double_scalars\n",
      "  return np.sum(masked)/np.sum(mask)\n",
      "E:\\Annemarie\\DRG Segmentation\\DRG Segmentation Paper\\drg.py:118: RuntimeWarning: invalid value encountered in true_divide\n",
      "  gfap_overlap = overlap_area/gfap_area\n"
     ]
    },
    {
     "data": {
      "application/vnd.jupyter.widget-view+json": {
       "model_id": "d403f81492a7485aa40965ddceba8269",
       "version_major": 2,
       "version_minor": 0
      },
      "text/plain": [
       "0it [00:00, ?it/s]"
      ]
     },
     "metadata": {},
     "output_type": "display_data"
    },
    {
     "data": {
      "application/vnd.jupyter.widget-view+json": {
       "model_id": "2b1cb2400e5d45b5b5641bfa90bfd040",
       "version_major": 2,
       "version_minor": 0
      },
      "text/plain": [
       "  0%|          | 0/6 [00:00<?, ?it/s]"
      ]
     },
     "metadata": {},
     "output_type": "display_data"
    },
    {
     "data": {
      "application/vnd.jupyter.widget-view+json": {
       "model_id": "918d1f8b4e5143f992962bdb52a8abf8",
       "version_major": 2,
       "version_minor": 0
      },
      "text/plain": [
       "0it [00:00, ?it/s]"
      ]
     },
     "metadata": {},
     "output_type": "display_data"
    },
    {
     "name": "stderr",
     "output_type": "stream",
     "text": [
      "E:\\Annemarie\\DRG Segmentation\\DRG Segmentation Paper\\drg.py:168: RuntimeWarning: invalid value encountered in double_scalars\n",
      "  return np.sum(masked)/np.sum(mask)\n",
      "E:\\Annemarie\\DRG Segmentation\\DRG Segmentation Paper\\drg.py:117: RuntimeWarning: invalid value encountered in true_divide\n",
      "  gs_overlap = overlap_area/gs_area\n"
     ]
    },
    {
     "data": {
      "application/vnd.jupyter.widget-view+json": {
       "model_id": "50abd94584cf491787a4d4e74ff1f3a0",
       "version_major": 2,
       "version_minor": 0
      },
      "text/plain": [
       "0it [00:00, ?it/s]"
      ]
     },
     "metadata": {},
     "output_type": "display_data"
    },
    {
     "name": "stderr",
     "output_type": "stream",
     "text": [
      "E:\\Annemarie\\DRG Segmentation\\DRG Segmentation Paper\\drg.py:168: RuntimeWarning: invalid value encountered in double_scalars\n",
      "  return np.sum(masked)/np.sum(mask)\n",
      "E:\\Annemarie\\DRG Segmentation\\DRG Segmentation Paper\\drg.py:118: RuntimeWarning: invalid value encountered in true_divide\n",
      "  gfap_overlap = overlap_area/gfap_area\n"
     ]
    },
    {
     "data": {
      "application/vnd.jupyter.widget-view+json": {
       "model_id": "8465c722900f42c29a734ae28d747603",
       "version_major": 2,
       "version_minor": 0
      },
      "text/plain": [
       "0it [00:00, ?it/s]"
      ]
     },
     "metadata": {},
     "output_type": "display_data"
    },
    {
     "data": {
      "application/vnd.jupyter.widget-view+json": {
       "model_id": "6af00d7328d642f19d5c7169648b4139",
       "version_major": 2,
       "version_minor": 0
      },
      "text/plain": [
       "0it [00:00, ?it/s]"
      ]
     },
     "metadata": {},
     "output_type": "display_data"
    },
    {
     "data": {
      "application/vnd.jupyter.widget-view+json": {
       "model_id": "a3565a1ca00544bfb824037e480ae387",
       "version_major": 2,
       "version_minor": 0
      },
      "text/plain": [
       "0it [00:00, ?it/s]"
      ]
     },
     "metadata": {},
     "output_type": "display_data"
    },
    {
     "data": {
      "application/vnd.jupyter.widget-view+json": {
       "model_id": "f797f4ffd2ef4f92b6d7097f5193d490",
       "version_major": 2,
       "version_minor": 0
      },
      "text/plain": [
       "0it [00:00, ?it/s]"
      ]
     },
     "metadata": {},
     "output_type": "display_data"
    },
    {
     "data": {
      "application/vnd.jupyter.widget-view+json": {
       "model_id": "5c2d2b83399e44e5aefab06de2b23f69",
       "version_major": 2,
       "version_minor": 0
      },
      "text/plain": [
       "  0%|          | 0/6 [00:00<?, ?it/s]"
      ]
     },
     "metadata": {},
     "output_type": "display_data"
    },
    {
     "data": {
      "application/vnd.jupyter.widget-view+json": {
       "model_id": "57fdaa7140e84ddba17783f314e0d549",
       "version_major": 2,
       "version_minor": 0
      },
      "text/plain": [
       "0it [00:00, ?it/s]"
      ]
     },
     "metadata": {},
     "output_type": "display_data"
    },
    {
     "data": {
      "application/vnd.jupyter.widget-view+json": {
       "model_id": "fab9561e67244ef7bbc71304ab0c9b5c",
       "version_major": 2,
       "version_minor": 0
      },
      "text/plain": [
       "0it [00:00, ?it/s]"
      ]
     },
     "metadata": {},
     "output_type": "display_data"
    },
    {
     "name": "stderr",
     "output_type": "stream",
     "text": [
      "E:\\Annemarie\\DRG Segmentation\\DRG Segmentation Paper\\drg.py:168: RuntimeWarning: invalid value encountered in double_scalars\n",
      "  return np.sum(masked)/np.sum(mask)\n",
      "E:\\Annemarie\\DRG Segmentation\\DRG Segmentation Paper\\drg.py:117: RuntimeWarning: invalid value encountered in true_divide\n",
      "  gs_overlap = overlap_area/gs_area\n",
      "E:\\Annemarie\\DRG Segmentation\\DRG Segmentation Paper\\drg.py:118: RuntimeWarning: invalid value encountered in true_divide\n",
      "  gfap_overlap = overlap_area/gfap_area\n"
     ]
    },
    {
     "data": {
      "application/vnd.jupyter.widget-view+json": {
       "model_id": "fe2b6e37b9784e92954777fc01089d7c",
       "version_major": 2,
       "version_minor": 0
      },
      "text/plain": [
       "0it [00:00, ?it/s]"
      ]
     },
     "metadata": {},
     "output_type": "display_data"
    },
    {
     "data": {
      "application/vnd.jupyter.widget-view+json": {
       "model_id": "1bac29944cfb49fd941d6f576e2561df",
       "version_major": 2,
       "version_minor": 0
      },
      "text/plain": [
       "0it [00:00, ?it/s]"
      ]
     },
     "metadata": {},
     "output_type": "display_data"
    },
    {
     "name": "stderr",
     "output_type": "stream",
     "text": [
      "E:\\Annemarie\\DRG Segmentation\\DRG Segmentation Paper\\drg.py:168: RuntimeWarning: invalid value encountered in double_scalars\n",
      "  return np.sum(masked)/np.sum(mask)\n",
      "E:\\Annemarie\\DRG Segmentation\\DRG Segmentation Paper\\drg.py:118: RuntimeWarning: invalid value encountered in true_divide\n",
      "  gfap_overlap = overlap_area/gfap_area\n"
     ]
    },
    {
     "data": {
      "application/vnd.jupyter.widget-view+json": {
       "model_id": "30ad7262ed3b45eca2c8771b4ff7ebb4",
       "version_major": 2,
       "version_minor": 0
      },
      "text/plain": [
       "0it [00:00, ?it/s]"
      ]
     },
     "metadata": {},
     "output_type": "display_data"
    },
    {
     "name": "stderr",
     "output_type": "stream",
     "text": [
      "E:\\Annemarie\\DRG Segmentation\\DRG Segmentation Paper\\drg.py:168: RuntimeWarning: invalid value encountered in double_scalars\n",
      "  return np.sum(masked)/np.sum(mask)\n",
      "E:\\Annemarie\\DRG Segmentation\\DRG Segmentation Paper\\drg.py:118: RuntimeWarning: invalid value encountered in true_divide\n",
      "  gfap_overlap = overlap_area/gfap_area\n"
     ]
    },
    {
     "data": {
      "application/vnd.jupyter.widget-view+json": {
       "model_id": "2ea3a6c1e7a74bd38eaa6ddb15f81029",
       "version_major": 2,
       "version_minor": 0
      },
      "text/plain": [
       "0it [00:00, ?it/s]"
      ]
     },
     "metadata": {},
     "output_type": "display_data"
    },
    {
     "name": "stderr",
     "output_type": "stream",
     "text": [
      "E:\\Annemarie\\DRG Segmentation\\DRG Segmentation Paper\\drg.py:168: RuntimeWarning: invalid value encountered in double_scalars\n",
      "  return np.sum(masked)/np.sum(mask)\n",
      "E:\\Annemarie\\DRG Segmentation\\DRG Segmentation Paper\\drg.py:117: RuntimeWarning: invalid value encountered in true_divide\n",
      "  gs_overlap = overlap_area/gs_area\n",
      "E:\\Annemarie\\DRG Segmentation\\DRG Segmentation Paper\\drg.py:118: RuntimeWarning: invalid value encountered in true_divide\n",
      "  gfap_overlap = overlap_area/gfap_area\n"
     ]
    },
    {
     "data": {
      "application/vnd.jupyter.widget-view+json": {
       "model_id": "60d29ab6c39a4f4bab648e64521a5799",
       "version_major": 2,
       "version_minor": 0
      },
      "text/plain": [
       "  0%|          | 0/6 [00:00<?, ?it/s]"
      ]
     },
     "metadata": {},
     "output_type": "display_data"
    },
    {
     "data": {
      "application/vnd.jupyter.widget-view+json": {
       "model_id": "f6b25617289e46d4bc0d9273425680e9",
       "version_major": 2,
       "version_minor": 0
      },
      "text/plain": [
       "0it [00:00, ?it/s]"
      ]
     },
     "metadata": {},
     "output_type": "display_data"
    },
    {
     "data": {
      "application/vnd.jupyter.widget-view+json": {
       "model_id": "bc3a4fc775d34fbdabeef633ac5ab246",
       "version_major": 2,
       "version_minor": 0
      },
      "text/plain": [
       "0it [00:00, ?it/s]"
      ]
     },
     "metadata": {},
     "output_type": "display_data"
    },
    {
     "data": {
      "application/vnd.jupyter.widget-view+json": {
       "model_id": "326fece9d0b84fb68600fe4d4729dad4",
       "version_major": 2,
       "version_minor": 0
      },
      "text/plain": [
       "0it [00:00, ?it/s]"
      ]
     },
     "metadata": {},
     "output_type": "display_data"
    },
    {
     "data": {
      "application/vnd.jupyter.widget-view+json": {
       "model_id": "d0c925df382b4d3fa42dc374eb70fd27",
       "version_major": 2,
       "version_minor": 0
      },
      "text/plain": [
       "0it [00:00, ?it/s]"
      ]
     },
     "metadata": {},
     "output_type": "display_data"
    },
    {
     "data": {
      "application/vnd.jupyter.widget-view+json": {
       "model_id": "7719a8ec42a648b99db2c983760e2ebb",
       "version_major": 2,
       "version_minor": 0
      },
      "text/plain": [
       "0it [00:00, ?it/s]"
      ]
     },
     "metadata": {},
     "output_type": "display_data"
    },
    {
     "data": {
      "application/vnd.jupyter.widget-view+json": {
       "model_id": "492a72d9cc754a768ac539cd479ecff9",
       "version_major": 2,
       "version_minor": 0
      },
      "text/plain": [
       "0it [00:00, ?it/s]"
      ]
     },
     "metadata": {},
     "output_type": "display_data"
    }
   ],
   "source": [
    "images_to_numbers_new(d7_sni,'D7_SNI')"
   ]
  },
  {
   "cell_type": "code",
   "execution_count": null,
   "metadata": {},
   "outputs": [],
   "source": []
  }
 ],
 "metadata": {
  "kernelspec": {
   "display_name": "Python 3",
   "language": "python",
   "name": "python3"
  },
  "language_info": {
   "codemirror_mode": {
    "name": "ipython",
    "version": 3
   },
   "file_extension": ".py",
   "mimetype": "text/x-python",
   "name": "python",
   "nbconvert_exporter": "python",
   "pygments_lexer": "ipython3",
   "version": "3.8.5"
  }
 },
 "nbformat": 4,
 "nbformat_minor": 2
}
